{
 "cells": [
  {
   "cell_type": "markdown",
   "id": "24591ea6-50c5-4644-97c6-c42f4bebf9a3",
   "metadata": {},
   "source": [
    "## What is numpy ?\n",
    "- NumPy stands for Numerical Python ,NumPy is a Python library used for working with arrays.\n",
    "- It also has functions for working in linear algebra, Fourier transform, and matrices.\n",
    "- It is an open source project and you can use it freely."
   ]
  },
  {
   "cell_type": "markdown",
   "id": "e5b5cf2b-ae30-452c-9ea7-4e3017497ef9",
   "metadata": {},
   "source": [
    "## Why Use NumPy?\n",
    "- It is much faster than Python lists.\n",
    "- Supports large multi-dimensional arrays and matrices.\n",
    "- Has powerful mathematical functions.\n"
   ]
  },
  {
   "cell_type": "code",
   "execution_count": 19,
   "id": "a011766d-3597-4ed1-a7ac-d281053951f8",
   "metadata": {},
   "outputs": [
    {
     "name": "stdout",
     "output_type": "stream",
     "text": [
      "Defaulting to user installation because normal site-packages is not writeable\n",
      "Requirement already satisfied: numpy in /Users/kumr_yogi/Library/Python/3.9/lib/python/site-packages (2.0.2)\n",
      "\u001b[33mWARNING: You are using pip version 21.2.4; however, version 25.1.1 is available.\n",
      "You should consider upgrading via the '/Library/Developer/CommandLineTools/usr/bin/python3 -m pip install --upgrade pip' command.\u001b[0m\n"
     ]
    }
   ],
   "source": [
    "# Installation\n",
    "!pip3 install numpy"
   ]
  },
  {
   "cell_type": "markdown",
   "id": "51ec35de-76d0-4da0-9b3b-e5b63ca369ae",
   "metadata": {},
   "source": [
    "##  Why NumPy is Faster than Python Lists"
   ]
  },
  {
   "cell_type": "markdown",
   "id": "e7eaa97b-d5d6-4ced-bdbd-6d92805458aa",
   "metadata": {},
   "source": [
    "**Homogeneous vs Heterogeneous**\n",
    "\n",
    "- A Python list can contain mixed data types (e.g., [1, \"a\", 3.14]) so it stores references (pointers)\n",
    "- NumPy arrays store elements of the same data type, allowing efficient memory usage and SIMD (single instruction, multiple data) operations.\n"
   ]
  },
  {
   "cell_type": "markdown",
   "id": "790537f6-0453-40e4-9d09-2c0700728798",
   "metadata": {},
   "source": [
    "**Memory Efficiency**\n",
    "- Python lists store pointers to each object, leading to non-contiguous memory.\n",
    "- NumPy stores data in a contiguous memory block, which the CPU can process more efficiently (better cache locality)."
   ]
  },
  {
   "cell_type": "markdown",
   "id": "a212694d-8264-48c2-b35e-ba512c8b96d5",
   "metadata": {},
   "source": [
    "**Vectorization – No More Loops!**\n",
    "- NumPy avoids loops by applying operations to entire arrays at once using SIMD (Single Instruction, Multiple Data) and other low-level optimizations. SIMD is a CPU-level optimization provided by modern processors.\n",
    "- You avoid the Python for-loop overhead by using vectorized operations."
   ]
  },
  {
   "cell_type": "code",
   "execution_count": 12,
   "id": "9bdf3f23-38bb-4e40-a5bd-7d789edeb33f",
   "metadata": {},
   "outputs": [
    {
     "name": "stdout",
     "output_type": "stream",
     "text": [
      "[0, 2, 4, 6, 8, 10, 12, 14, 16, 18]\n",
      "time taken = 0.5284678936004639\n"
     ]
    }
   ],
   "source": [
    "## Speed test numpy vs python lists\n",
    "import time\n",
    "\n",
    "size = 1_000_000_0\n",
    "arr1 = [i for i in range(size)]\n",
    "arr2 = [i for i in range(size)]\n",
    "start = time.time()\n",
    "result = [ arr1[i] + arr2[i] for i in range(size)]\n",
    "print(result[0:10])\n",
    "end = time.time()\n",
    "print(f\"time taken = {end-start}\")\n"
   ]
  },
  {
   "cell_type": "code",
   "execution_count": 23,
   "id": "71fa5a35-06fd-478c-b1f7-41bf0827a8ab",
   "metadata": {},
   "outputs": [
    {
     "name": "stdout",
     "output_type": "stream",
     "text": [
      "[ 0  2  4  6  8 10 12 14 16 18]\n",
      "time taken = 0.05883026123046875\n"
     ]
    }
   ],
   "source": [
    "## using numpy\n",
    "import numpy as np\n",
    "\n",
    "arr1 = np.array(arr1)\n",
    "arr2 = np.array(arr2)\n",
    "start = time.time()\n",
    "result = arr1 + arr2\n",
    "print(result[0:10])\n",
    "end = time.time()\n",
    "print(f\"time taken = {end-start}\")"
   ]
  },
  {
   "cell_type": "markdown",
   "id": "56ff55f7-49dc-4483-8e93-073a58274bc1",
   "metadata": {},
   "source": [
    "## Memory Efficiency – NumPy vs. Lists"
   ]
  },
  {
   "cell_type": "code",
   "execution_count": 30,
   "id": "323010f4-b32b-475d-97d9-6528b771a013",
   "metadata": {},
   "outputs": [
    {
     "name": "stdout",
     "output_type": "stream",
     "text": [
      "python list takes 800000560000000 space\n",
      "numpy list takes 80000000 space\n"
     ]
    }
   ],
   "source": [
    "import sys\n",
    "python_list = list(range(size))\n",
    "numpy_array = np.array(python_list)\n",
    "\n",
    "print(f\"python list takes {sys.getsizeof(python_list) * len(python_list)} space\")\n",
    "print(f\"numpy list takes {numpy_array.nbytes} space\")"
   ]
  },
  {
   "cell_type": "markdown",
   "id": "c58030a4-99d8-4ff4-a61d-ed2421934df7",
   "metadata": {},
   "source": [
    "### Ways of creating arrays"
   ]
  },
  {
   "cell_type": "code",
   "execution_count": 100,
   "id": "b53707b1-00af-4a41-8788-205aa5811fd3",
   "metadata": {},
   "outputs": [
    {
     "name": "stdout",
     "output_type": "stream",
     "text": [
      "array = [1 2 3 4 5]\n",
      "array dimenssions = 1D\n"
     ]
    }
   ],
   "source": [
    "# 1D array Creation\n",
    "array = np.array([1,2,3,4,5])\n",
    "print(f\"array = {array}\")\n",
    "print(f\"array dimenssions = {array.ndim}D\")"
   ]
  },
  {
   "cell_type": "code",
   "execution_count": 105,
   "id": "45ab597b-15a7-4b3e-b4e4-b18264d9bea7",
   "metadata": {},
   "outputs": [
    {
     "name": "stdout",
     "output_type": "stream",
     "text": [
      "array: \n",
      " [[1 2 3]\n",
      " [4 5 6]]\n",
      "array dimenssions = 2D\n"
     ]
    }
   ],
   "source": [
    "# 2D array creation\n",
    "array2D = np.array([[1,2,3],[4,5,6]])\n",
    "print(f\"array: \\n {array2D}\")\n",
    "print(f\"array dimenssions = {array2D.ndim}D\")"
   ]
  },
  {
   "cell_type": "code",
   "execution_count": 106,
   "id": "31c44caf-b250-4a89-b73f-e4e0ab31cbeb",
   "metadata": {},
   "outputs": [
    {
     "name": "stdout",
     "output_type": "stream",
     "text": [
      "array: \n",
      " [[[ 1  2  3]\n",
      "  [ 4  5  6]]\n",
      "\n",
      " [[ 7  8  9]\n",
      "  [10 11 12]]]\n",
      "array dimenssions = 3D\n"
     ]
    }
   ],
   "source": [
    "# 3D array creation\n",
    "array3D = np.array([[[1,2,3],[4,5,6]],[[7,8,9],[10,11,12]]])\n",
    "print(f\"array: \\n {array3D}\")\n",
    "print(f\"array dimenssions = {array3D.ndim}D\")"
   ]
  },
  {
   "cell_type": "code",
   "execution_count": 36,
   "id": "42c9f936-056f-46a4-8412-9017c02d49ac",
   "metadata": {},
   "outputs": [
    {
     "data": {
      "text/plain": [
       "array([[0., 0., 0., 0., 0.],\n",
       "       [0., 0., 0., 0., 0.],\n",
       "       [0., 0., 0., 0., 0.],\n",
       "       [0., 0., 0., 0., 0.]])"
      ]
     },
     "execution_count": 36,
     "metadata": {},
     "output_type": "execute_result"
    }
   ],
   "source": [
    "# all zero arrays (rows, columns)\n",
    "np.zeros((4, 5))"
   ]
  },
  {
   "cell_type": "code",
   "execution_count": 37,
   "id": "df858229-aaf4-4d1c-b6e0-6462678f18aa",
   "metadata": {},
   "outputs": [
    {
     "data": {
      "text/plain": [
       "array([[1., 1., 1., 1., 1.],\n",
       "       [1., 1., 1., 1., 1.],\n",
       "       [1., 1., 1., 1., 1.],\n",
       "       [1., 1., 1., 1., 1.]])"
      ]
     },
     "execution_count": 37,
     "metadata": {},
     "output_type": "execute_result"
    }
   ],
   "source": [
    "## all one array (rows, columns)\n",
    "np.ones((4,5))"
   ]
  },
  {
   "cell_type": "code",
   "execution_count": 107,
   "id": "e5028a68-239b-427e-8aa9-34a1da426843",
   "metadata": {},
   "outputs": [
    {
     "data": {
      "text/plain": [
       "array([[9, 9, 9, 9, 9],\n",
       "       [9, 9, 9, 9, 9],\n",
       "       [9, 9, 9, 9, 9],\n",
       "       [9, 9, 9, 9, 9]])"
      ]
     },
     "execution_count": 107,
     "metadata": {},
     "output_type": "execute_result"
    }
   ],
   "source": [
    "## all specific value array (row, columns, specific_number)\n",
    "np.full((4,5), 9)"
   ]
  },
  {
   "cell_type": "code",
   "execution_count": 52,
   "id": "3a06ca3a-eeff-41ce-9e73-17ef23f65f27",
   "metadata": {},
   "outputs": [
    {
     "data": {
      "text/plain": [
       "array([[0.18534437, 0.58830666, 0.14293662, 0.33455079, 0.2912479 ],\n",
       "       [0.57044469, 0.63390952, 0.42709829, 0.71063637, 0.93441605],\n",
       "       [0.42916881, 0.91516013, 0.65887148, 0.64256461, 0.88848978],\n",
       "       [0.07240305, 0.8590866 , 0.48998229, 0.81288722, 0.69857762]])"
      ]
     },
     "execution_count": 52,
     "metadata": {},
     "output_type": "execute_result"
    }
   ],
   "source": [
    "## all random values {contains floats in [0, 1)}\n",
    "np.random.rand(4,5)"
   ]
  },
  {
   "cell_type": "code",
   "execution_count": 50,
   "id": "292a0dd5-d289-47b4-8cd1-2741f16e5aa4",
   "metadata": {},
   "outputs": [
    {
     "data": {
      "text/plain": [
       "array([[ 5, 39, 40,  4, 48],\n",
       "       [75, 16, 17, 80, 53],\n",
       "       [54, 79,  7, 48,  1],\n",
       "       [ 8, 10, 19, 55, 62]])"
      ]
     },
     "execution_count": 50,
     "metadata": {},
     "output_type": "execute_result"
    }
   ],
   "source": [
    "## all random integers\n",
    "np.random.randint(0,100, size=(4,5))"
   ]
  },
  {
   "cell_type": "code",
   "execution_count": 53,
   "id": "861b8d40-d6dc-4d9e-ac57-08911b9856a5",
   "metadata": {},
   "outputs": [
    {
     "data": {
      "text/plain": [
       "array([[0.18534437, 0.58830666, 0.14293662, 0.33455079, 0.2912479 ],\n",
       "       [0.57044469, 0.63390952, 0.42709829, 0.71063637, 0.93441605],\n",
       "       [0.42916881, 0.91516013, 0.65887148, 0.64256461, 0.88848978],\n",
       "       [0.07240305, 0.8590866 , 0.48998229, 0.81288722, 0.69857762]])"
      ]
     },
     "execution_count": 53,
     "metadata": {},
     "output_type": "execute_result"
    }
   ],
   "source": [
    "## create array with garbage value\n",
    "np.empty((4,5))"
   ]
  },
  {
   "cell_type": "code",
   "execution_count": 54,
   "id": "d3a349f3-0ba3-4721-af1f-95d6fa034c30",
   "metadata": {},
   "outputs": [
    {
     "data": {
      "text/plain": [
       "array([[1., 0., 0., 0., 0.],\n",
       "       [0., 1., 0., 0., 0.],\n",
       "       [0., 0., 1., 0., 0.],\n",
       "       [0., 0., 0., 1., 0.],\n",
       "       [0., 0., 0., 0., 1.]])"
      ]
     },
     "execution_count": 54,
     "metadata": {},
     "output_type": "execute_result"
    }
   ],
   "source": [
    "## indentity Metrics\n",
    "np.eye(5)"
   ]
  },
  {
   "cell_type": "code",
   "execution_count": 55,
   "id": "9b02d5d4-2018-4217-bd99-0ab87c149456",
   "metadata": {},
   "outputs": [
    {
     "data": {
      "text/plain": [
       "array([ 1,  6, 11, 16, 21, 26, 31, 36, 41, 46])"
      ]
     },
     "execution_count": 55,
     "metadata": {},
     "output_type": "execute_result"
    }
   ],
   "source": [
    "## arange (start, end, diff)\n",
    "np.arange(1, 50, 5)"
   ]
  },
  {
   "cell_type": "code",
   "execution_count": 56,
   "id": "bdee4fb3-ce3d-47c2-bf30-8d7a6f1dacdf",
   "metadata": {},
   "outputs": [
    {
     "data": {
      "text/plain": [
       "array([  1.  ,  25.75,  50.5 ,  75.25, 100.  ])"
      ]
     },
     "execution_count": 56,
     "metadata": {},
     "output_type": "execute_result"
    }
   ],
   "source": [
    "## linspace : give values evenly spaced, of lenght n \n",
    "np.linspace(1, 100, 5)"
   ]
  },
  {
   "cell_type": "code",
   "execution_count": 57,
   "id": "560a1f2d-93c6-4449-b117-ec570795ea91",
   "metadata": {},
   "outputs": [
    {
     "data": {
      "text/plain": [
       "array([[0., 1., 2., 3., 4.],\n",
       "       [1., 2., 3., 4., 5.],\n",
       "       [2., 3., 4., 5., 6.],\n",
       "       [3., 4., 5., 6., 7.]])"
      ]
     },
     "execution_count": 57,
     "metadata": {},
     "output_type": "execute_result"
    }
   ],
   "source": [
    "## build array with function\n",
    "np.fromfunction(lambda i,j: i + j, (4,5))"
   ]
  },
  {
   "cell_type": "markdown",
   "id": "2d90013a-bb59-4fa1-9835-1676a6f7193d",
   "metadata": {},
   "source": [
    "## Attributes of ndarray\n",
    "NumPy array properties helps you analyze and manipulate arrays more effectively.\n",
    "Here's a list of key properties every NumPy array (ndarray) has.\n",
    "- **ndarray.shape**: Returns a tuple representing the shape (dimensions) of the array.\n",
    "- **ndarray.ndim**: Returns the number of dimensions (axes) of the array.\n",
    "- **ndarray.size**: Returns the total number of elements in the array.\n",
    "- **ndarray.dtype**: Provides the data type of the array elements.\n",
    "- **ndarray.itemsize**: Returns the size in bytes of each element"
   ]
  },
  {
   "cell_type": "code",
   "execution_count": 60,
   "id": "a1ef057a-53d1-4b1e-a939-46b540e14f61",
   "metadata": {},
   "outputs": [],
   "source": [
    "array = np.array([[1,2,3,4],[5,6,7,8],[9,10,11,12]])"
   ]
  },
  {
   "cell_type": "code",
   "execution_count": 62,
   "id": "c30fe710-6d2d-4ce2-ac83-bc5f5c7b074e",
   "metadata": {},
   "outputs": [
    {
     "data": {
      "text/plain": [
       "array([[ 1,  2,  3,  4],\n",
       "       [ 5,  6,  7,  8],\n",
       "       [ 9, 10, 11, 12]])"
      ]
     },
     "execution_count": 62,
     "metadata": {},
     "output_type": "execute_result"
    }
   ],
   "source": [
    "array"
   ]
  },
  {
   "cell_type": "code",
   "execution_count": 63,
   "id": "19fbc311-8da0-48a1-8b11-44e1a40e3916",
   "metadata": {},
   "outputs": [
    {
     "name": "stdout",
     "output_type": "stream",
     "text": [
      "shape of the array (row, columns) : (3, 4)\n"
     ]
    }
   ],
   "source": [
    "print(f\"shape of the array (row, columns) : {array.shape}\")"
   ]
  },
  {
   "cell_type": "code",
   "execution_count": 65,
   "id": "e747d5cb-3f37-466f-8eb2-5f773d1fda8e",
   "metadata": {},
   "outputs": [
    {
     "name": "stdout",
     "output_type": "stream",
     "text": [
      "dimensions of the array : 2D\n"
     ]
    }
   ],
   "source": [
    "print(f\"dimensions of the array : {array.ndim}D\")"
   ]
  },
  {
   "cell_type": "code",
   "execution_count": 66,
   "id": "6d050a13-724f-41b9-bbef-9272591fce07",
   "metadata": {},
   "outputs": [
    {
     "name": "stdout",
     "output_type": "stream",
     "text": [
      "size of the array (row * columns) : 12\n"
     ]
    }
   ],
   "source": [
    "print(f\"size of the array (row * columns) : {array.size}\")"
   ]
  },
  {
   "cell_type": "code",
   "execution_count": 67,
   "id": "2f208a78-fcab-4a80-a7e9-6ffc4aaafd36",
   "metadata": {},
   "outputs": [
    {
     "name": "stdout",
     "output_type": "stream",
     "text": [
      "datatype of the array : int64\n"
     ]
    }
   ],
   "source": [
    "print(f\"datatype of the array : {array.dtype}\")"
   ]
  },
  {
   "cell_type": "code",
   "execution_count": 69,
   "id": "12a85ab7-498a-4f4b-90df-16d82d9f1c7f",
   "metadata": {},
   "outputs": [
    {
     "name": "stdout",
     "output_type": "stream",
     "text": [
      "itemsize of the array (row, columns) : 8 bytes\n"
     ]
    }
   ],
   "source": [
    "print(f\"itemsize of the array (row, columns) : {array.itemsize} bytes\")"
   ]
  },
  {
   "cell_type": "markdown",
   "id": "c9999fcf-6aca-469d-b532-4bf8ada7ad86",
   "metadata": {},
   "source": [
    "### Common NumPy Array Operations"
   ]
  },
  {
   "cell_type": "code",
   "execution_count": 71,
   "id": "bc989885-c2cb-480d-a517-7ce37f333885",
   "metadata": {},
   "outputs": [
    {
     "data": {
      "text/plain": [
       "array([[ 1,  2,  3,  4,  5,  6],\n",
       "       [ 7,  8,  9, 10, 11, 12]])"
      ]
     },
     "execution_count": 71,
     "metadata": {},
     "output_type": "execute_result"
    }
   ],
   "source": [
    "# reshape() — Reshapes an array without changing the data.\n",
    "reshaped_array = array.reshape((2,6))\n",
    "reshaped_array\n"
   ]
  },
  {
   "cell_type": "code",
   "execution_count": 73,
   "id": "12afe6dc-e310-4126-94ee-cf3bcb2b4104",
   "metadata": {},
   "outputs": [
    {
     "data": {
      "text/plain": [
       "array([ 1,  2,  3,  4,  5,  6,  7,  8,  9, 10, 11, 12])"
      ]
     },
     "execution_count": 73,
     "metadata": {},
     "output_type": "execute_result"
    }
   ],
   "source": [
    "# flatten() — Returns a copy of the array collapsed into one dimension.\n",
    "flat_array = array.flatten()\n",
    "flat_array"
   ]
  },
  {
   "cell_type": "code",
   "execution_count": 75,
   "id": "11e4cc2f-6b2e-4c75-bade-fd011702f0d0",
   "metadata": {},
   "outputs": [
    {
     "data": {
      "text/plain": [
       "array([[ 1,  5,  9],\n",
       "       [ 2,  6, 10],\n",
       "       [ 3,  7, 11],\n",
       "       [ 4,  8, 12]])"
      ]
     },
     "execution_count": 75,
     "metadata": {},
     "output_type": "execute_result"
    }
   ],
   "source": [
    "# transpose() - Swaps rows and columns in 2D arrays\n",
    "trans_array = array.T\n",
    "trans_array"
   ]
  },
  {
   "cell_type": "code",
   "execution_count": 87,
   "id": "5139c656-3cd5-49a3-a2a9-5c64ba86ea9b",
   "metadata": {},
   "outputs": [
    {
     "data": {
      "text/plain": [
       "array([[ 1,  2,  3,  4,  5,  6],\n",
       "       [ 7,  8,  9, 10, 11, 12]])"
      ]
     },
     "execution_count": 87,
     "metadata": {},
     "output_type": "execute_result"
    }
   ],
   "source": [
    "# resize() -  Change shape in-place\n",
    "array.resize((2,6))\n",
    "array"
   ]
  },
  {
   "cell_type": "code",
   "execution_count": 91,
   "id": "6f7735ec-5625-4308-80b8-f78ff54992df",
   "metadata": {},
   "outputs": [
    {
     "data": {
      "text/plain": [
       "array([[1, 2],\n",
       "       [3, 4],\n",
       "       [9, 8],\n",
       "       [7, 6]])"
      ]
     },
     "execution_count": 91,
     "metadata": {},
     "output_type": "execute_result"
    }
   ],
   "source": [
    "# concatenate() — Join Arrays\n",
    "arr1 = [[1, 2], [3, 4]]\n",
    "arr2 = [[9, 8], [7, 6]]\n",
    "np.concatenate((arr1, arr2))"
   ]
  },
  {
   "cell_type": "markdown",
   "id": "88d5e247-b643-4fc3-b2b0-dad9cf67cc38",
   "metadata": {},
   "source": [
    "### Datatypes in NumPy"
   ]
  },
  {
   "cell_type": "markdown",
   "id": "de098dc3-f9e7-4fba-b6ff-c8c93690996d",
   "metadata": {},
   "source": [
    "- In NumPy, dtype stands for \"data type\" and is a fundamental attribute of a NumPy array (ndarray).\n",
    "- NumPy arrays are homogeneous — all elements must have the same type, unlike Python lists."
   ]
  },
  {
   "cell_type": "markdown",
   "id": "ec01c93b-0c39-4dda-927b-37e4a690b1d5",
   "metadata": {},
   "source": [
    "NumPy supports a wide variety of data types. Here are the most common ones:\n",
    "1. **int8, int16,int32, int64**: Integer types with different bit sizes.\n",
    "2. **float16, float32, float64**: Floating-point types with different precision.\n",
    "3. **bool**: Boolean data type.\n",
    "4. **complex64, complex128**: Complex number types.\n",
    "5. **object**: For storing objects (e.g., Python objects, strings)."
   ]
  },
  {
   "cell_type": "code",
   "execution_count": 120,
   "id": "b8ea80a0-ddc1-4cde-8293-9d738bf2d721",
   "metadata": {},
   "outputs": [
    {
     "name": "stdout",
     "output_type": "stream",
     "text": [
      "int64\n",
      "float64\n",
      "bool\n",
      "complex128\n",
      "<U5\n"
     ]
    }
   ],
   "source": [
    "# numpy array with integer datatype\n",
    "arr = np.array([1,2,3,4])\n",
    "print(arr.dtype)   #int64\n",
    "\n",
    "arr2 = np.array([1.2, 2.1, 3.4])\n",
    "print(arr2.dtype)  #float64\n",
    "\n",
    "arr3 = np.array([True, False])\n",
    "print(arr3.dtype)  #bool\n",
    "\n",
    "arr4 = np.array([1 + 2j, 3 + 4j, 5 + 6j])\n",
    "print(arr4.dtype)  #complex128\n",
    "\n",
    "arr5 = np.array(['ram', 'shyam', 'jay'])\n",
    "print(arr5.dtype)  #object\n"
   ]
  },
  {
   "cell_type": "markdown",
   "id": "5c704fbe-fe99-438d-a589-69df68343820",
   "metadata": {},
   "source": [
    "**Type Casting**\n",
    "before starting lets first learn about type casting, as we gonna use that in further slides:\n",
    "\n",
    "### What is Type Casting in NumPy?\n",
    "**Type casting** is the process of converting one data type to another. In NumPy.\n",
    "* You can cast during array creation using **'dtype='**.\n",
    "* Or convert later using **.astype()**\n"
   ]
  },
  {
   "cell_type": "code",
   "execution_count": 108,
   "id": "4b6f6ad3-ca14-48e4-8769-cc4c81500a09",
   "metadata": {},
   "outputs": [
    {
     "name": "stdout",
     "output_type": "stream",
     "text": [
      "[1 2 3]\n",
      "int32\n"
     ]
    }
   ],
   "source": [
    " # cast float datatype to int\n",
    "arr = np.array([1.5, 2.8, 3.9], dtype=np.int32) \n",
    "print(arr)         # Output: [1 2 3]\n",
    "print(arr.dtype)   # int32\n"
   ]
  },
  {
   "cell_type": "code",
   "execution_count": 114,
   "id": "fb755d07-3a44-4b0f-8dcf-05a84783e031",
   "metadata": {},
   "outputs": [
    {
     "name": "stdout",
     "output_type": "stream",
     "text": [
      "[1. 2. 3.]\n",
      "float64\n",
      "float32\n"
     ]
    }
   ],
   "source": [
    "# convert back to float data type\n",
    "arr_float = arr.astype(float)\n",
    "print(arr_float)\n",
    "print(arr_float.dtype)\n",
    "\n",
    "arr_float32 = arr.astype(np.float32)\n",
    "print(arr_float32.dtype)"
   ]
  },
  {
   "cell_type": "markdown",
   "id": "e5a8b5bb-282b-464c-a662-6c0033d4dcd4",
   "metadata": {},
   "source": [
    "### Integer Types: int8, int16, int32, int64"
   ]
  },
  {
   "cell_type": "code",
   "execution_count": 121,
   "id": "1139bb4b-fdd5-4cb3-a707-6230250269c5",
   "metadata": {},
   "outputs": [
    {
     "name": "stdout",
     "output_type": "stream",
     "text": [
      "int8: [100] int8\n",
      "int16: [1000] int16\n",
      "int32: [100000] int32\n",
      "int64: [10000000000] int64\n"
     ]
    }
   ],
   "source": [
    "import numpy as np\n",
    "\n",
    "a = np.array([100], dtype=np.int8)\n",
    "b = np.array([1000], dtype=np.int16)\n",
    "c = np.array([100000], dtype=np.int32)\n",
    "d = np.array([10000000000], dtype=np.int64)\n",
    "\n",
    "print(\"int8:\", a, a.dtype)       # int8: [100] int8\n",
    "print(\"int16:\", b, b.dtype)      # int16: [1000] int16\n",
    "print(\"int32:\", c, c.dtype)      # int32: [100000] int32\n",
    "print(\"int64:\", d, d.dtype)      # int64: [10000000000] int64\n"
   ]
  },
  {
   "cell_type": "markdown",
   "id": "81adff71-f4f1-46b1-a672-5e5b4653fcd1",
   "metadata": {},
   "source": [
    "### Float Types: float16, float32, float64"
   ]
  },
  {
   "cell_type": "code",
   "execution_count": 122,
   "id": "0fb71c41-a6b0-46f7-b3b6-9e49076dc7c6",
   "metadata": {},
   "outputs": [
    {
     "name": "stdout",
     "output_type": "stream",
     "text": [
      "float16: [3.14] float16\n",
      "float32: [3.1415925] float32\n",
      "float64: [3.14159265] float64\n"
     ]
    }
   ],
   "source": [
    "e = np.array([3.14], dtype=np.float16)\n",
    "f = np.array([3.1415926], dtype=np.float32)\n",
    "g = np.array([3.14159265358979], dtype=np.float64)\n",
    "\n",
    "print(\"float16:\", e, e.dtype)    # float16: [3.14] float16\n",
    "print(\"float32:\", f, f.dtype)    # float32: [3.1415925] float32\n",
    "print(\"float64:\", g, g.dtype)    # float64: [3.14159265] float64"
   ]
  },
  {
   "cell_type": "markdown",
   "id": "cce4bbeb-cd28-466f-9b8e-16f7003d8a67",
   "metadata": {},
   "source": [
    "### Boolean Type: bool"
   ]
  },
  {
   "cell_type": "code",
   "execution_count": 123,
   "id": "855d5c45-78e7-4a98-8cdf-258d5bd94f8a",
   "metadata": {},
   "outputs": [
    {
     "name": "stdout",
     "output_type": "stream",
     "text": [
      "bool: [ True False  True] bool\n"
     ]
    }
   ],
   "source": [
    "h = np.array([1, 0, 3], dtype=np.bool_)\n",
    "print(\"bool:\", h, h.dtype)       # bool: [ True False  True] bool"
   ]
  },
  {
   "cell_type": "markdown",
   "id": "36f768b3-3a7f-45b1-b27c-b0281080f0a9",
   "metadata": {},
   "source": [
    "### Complex Types: complex64, complex128\n",
    "Stores complex numbers (real + imag j)"
   ]
  },
  {
   "cell_type": "code",
   "execution_count": 124,
   "id": "6ab42c8e-8ee8-4b4c-82e6-1ce357e84b9f",
   "metadata": {},
   "outputs": [
    {
     "name": "stdout",
     "output_type": "stream",
     "text": [
      "complex64: [1.+2.j] complex64\n",
      "complex128: [3.5+4.5j] complex128\n"
     ]
    }
   ],
   "source": [
    "i = np.array([1 + 2j], dtype=np.complex64)\n",
    "j = np.array([3.5 + 4.5j], dtype=np.complex128)\n",
    "\n",
    "print(\"complex64:\", i, i.dtype)   # complex64: [1.+2.j] complex64\n",
    "print(\"complex128:\", j, j.dtype) # complex128: [3.5+4.5j] complex128\n"
   ]
  },
  {
   "cell_type": "markdown",
   "id": "fa34ad33-f3bf-4259-931d-249f052690a3",
   "metadata": {},
   "source": [
    "### Object Type: object\n",
    "Can store Python objects like strings, lists, even mixed types."
   ]
  },
  {
   "cell_type": "code",
   "execution_count": 126,
   "id": "ba81d27b-517b-4c2f-9afc-bf8805c0b804",
   "metadata": {},
   "outputs": [
    {
     "name": "stdout",
     "output_type": "stream",
     "text": [
      "object: ['Hello' 42 3.14] object\n"
     ]
    }
   ],
   "source": [
    "k = np.array([\"Hello\", 42, 3.14], dtype=object)\n",
    "print(\"object:\", k, k.dtype)     # object: ['Hello' 42 3.14] object"
   ]
  },
  {
   "cell_type": "markdown",
   "id": "85ca56ea-d71e-4558-a123-454550074d5b",
   "metadata": {},
   "source": [
    "# Downcasting?\n",
    "**Downcasting** means converting a data type to a smaller or less precise type.\n",
    "In simple word, lets suppose you have a column name age, and age ranges from (1-100)\n",
    "and if we store it into int64, than there is a lot of memory waste as **Smaller data types use less memory**.\n",
    "Example: \n",
    "* float64 → float32, int64 → int32, or even int32 → int8\n",
    "- It’s essentially casting from a wider type to a narrower one.\n",
    "\n",
    "[Note : **Downcasting can lead to data loss if the new type can’t store the original values** ]"
   ]
  },
  {
   "cell_type": "markdown",
   "id": "fb5c7cb3-9e0b-4ca2-a8a7-bde96e9a2962",
   "metadata": {},
   "source": [
    "#### Good Practice for Safe Downcasting:\n",
    "First check the value range for desired datatype: \n",
    "- iinfo()\n",
    "- finfo()"
   ]
  },
  {
   "cell_type": "code",
   "execution_count": 131,
   "id": "03003497-eb4f-4ba1-bf93-0822b2949315",
   "metadata": {},
   "outputs": [
    {
     "data": {
      "text/plain": [
       "iinfo(min=-32768, max=32767, dtype=int16)"
      ]
     },
     "execution_count": 131,
     "metadata": {},
     "output_type": "execute_result"
    }
   ],
   "source": [
    "np.iinfo(np.int16)"
   ]
  },
  {
   "cell_type": "code",
   "execution_count": 132,
   "id": "e5bba999-f92e-4bf3-82c6-8d6370364ef5",
   "metadata": {},
   "outputs": [
    {
     "data": {
      "text/plain": [
       "finfo(resolution=0.001, min=-6.55040e+04, max=6.55040e+04, dtype=float16)"
      ]
     },
     "execution_count": 132,
     "metadata": {},
     "output_type": "execute_result"
    }
   ],
   "source": [
    "np.finfo(np.float16)"
   ]
  },
  {
   "cell_type": "code",
   "execution_count": 145,
   "id": "feaeb617-0f9d-4320-ac2d-2ededb5f967d",
   "metadata": {},
   "outputs": [
    {
     "name": "stdout",
     "output_type": "stream",
     "text": [
      "[ 0 67 84 65 71 90 90 60 25 89]\n",
      "Time taken: 0.2505629062652588\n"
     ]
    }
   ],
   "source": [
    "# array of age values\n",
    "import time\n",
    "\n",
    "array = np.random.randint(0, 100, 10_000_000_0).astype(np.int64)\n",
    "start = time.time()\n",
    "np.sqrt(array)\n",
    "print(array[0:10])\n",
    "stop = time.time()\n",
    "print(f\"Time taken: {stop - start}\")"
   ]
  },
  {
   "cell_type": "code",
   "execution_count": 148,
   "id": "9c8d2666-bf8b-4b64-885d-63472995cd79",
   "metadata": {},
   "outputs": [
    {
     "name": "stdout",
     "output_type": "stream",
     "text": [
      "[65 34 94 97 19 25 77  7 81 96]\n",
      "Time taken: 0.12869501113891602\n"
     ]
    }
   ],
   "source": [
    "array = np.random.randint(0, 100, 10_000_000_0).astype(np.int16)\n",
    "start = time.time()\n",
    "np.sqrt(array)\n",
    "print(array[0:10])\n",
    "stop = time.time()\n",
    "print(f\"Time taken: {stop - start}\")"
   ]
  },
  {
   "cell_type": "markdown",
   "id": "88e87f22-25ea-417d-a220-6ed2d7fbbe0b",
   "metadata": {},
   "source": [
    "## Slicing and Indexing in NumPy"
   ]
  },
  {
   "cell_type": "markdown",
   "id": "b987cd5b-2df5-4d40-b3d8-a7ab8e6ccd08",
   "metadata": {},
   "source": [
    "- **Indexing** : indexing used for accessing the element of the array\n",
    "- **slicing** : extract a portion of the array."
   ]
  },
  {
   "cell_type": "code",
   "execution_count": 153,
   "id": "28396aab-806e-47dd-8e53-d32dc0cd3d8a",
   "metadata": {},
   "outputs": [
    {
     "name": "stdout",
     "output_type": "stream",
     "text": [
      "element: 4\n",
      "element: 3\n",
      "element: 6\n"
     ]
    }
   ],
   "source": [
    "# 1D indexing\n",
    "arr1 = np.array([1,3,4,5,6])\n",
    "print(f'element: {arr1[2]}')\n",
    "\n",
    "# 2D indexing\n",
    "arr2 = np.array([[1,2,3],[4,5,6]])\n",
    "print(f'element: {arr2[0,2]}')  # oth row, 2th column\n",
    "\n",
    "# 3D indexing\n",
    "arr3 = np.array([\n",
    "    [[ 1,  2,  3], [ 4,  5,  6]],\n",
    "    [[ 7,  8,  9], [10, 11, 12]]\n",
    "])\n",
    "print(f'element: {arr3[0,1,2]}')"
   ]
  },
  {
   "cell_type": "markdown",
   "id": "8f892c7e-9777-4459-b30a-03b0eaaf83a9",
   "metadata": {},
   "source": [
    "#### 3D index selection\n",
    "* Block 0:\n",
    "[[1, 2, 3],\n",
    " [4, 5, 6]]\n",
    "\n",
    "* Block 1:\n",
    "[[7, 8, 9],\n",
    " [10, 11, 12]]\n",
    "\n",
    "- 0th \"blocks\" (or depth layers)\n",
    "- Each block has 2 rows [0,1] , select 1th row\n",
    "- Each row has 3 columns [0,1,2], select 2th column element"
   ]
  },
  {
   "cell_type": "markdown",
   "id": "d1306659-a60f-4c59-8c23-971128c837c3",
   "metadata": {},
   "source": [
    "#### Fancy Indexing & Boolean Masking"
   ]
  },
  {
   "cell_type": "code",
   "execution_count": 155,
   "id": "2c9fb7ae-5969-4ede-9880-de00e4ff729f",
   "metadata": {},
   "outputs": [
    {
     "name": "stdout",
     "output_type": "stream",
     "text": [
      "[1 3 4]\n"
     ]
    }
   ],
   "source": [
    "# select multiple elements\n",
    "indexs = [0 ,1, 2]\n",
    "print(arr1[indexs])"
   ]
  },
  {
   "cell_type": "code",
   "execution_count": 157,
   "id": "15a1219b-29b3-4d4c-9b2f-a0696207aed1",
   "metadata": {},
   "outputs": [
    {
     "name": "stdout",
     "output_type": "stream",
     "text": [
      "[4 5 6]\n"
     ]
    }
   ],
   "source": [
    "# Boolean Masking (Filter Data)\n",
    "mask = arr1 > 3\n",
    "print(arr1[mask])\n",
    "# value greater than 3 will be True"
   ]
  },
  {
   "cell_type": "markdown",
   "id": "0ddc1c69-06de-44a7-88f1-2706fd1a1cce",
   "metadata": {},
   "source": [
    "#### Slicing\n",
    "Slicing always returns a view (not a copy) — changes will affect the original array unless you use .copy().\n"
   ]
  },
  {
   "cell_type": "code",
   "execution_count": 162,
   "id": "58740002-5499-4399-b8c4-97117291869d",
   "metadata": {},
   "outputs": [
    {
     "name": "stdout",
     "output_type": "stream",
     "text": [
      "[2 3 4 5]\n",
      "[1 2 3 4 5 6]\n",
      "[1 3 5 7]\n"
     ]
    }
   ],
   "source": [
    "# slicing [start: end: Step]\n",
    "arr = np.array([1,2,3,4,5,6,7])\n",
    "print(arr[1:5]) \n",
    "print(arr[:6]) # first 6 elements\n",
    "print(arr[::2])  # step = 2"
   ]
  },
  {
   "cell_type": "code",
   "execution_count": 165,
   "id": "814075ec-bd58-433b-a644-50ec2b76708b",
   "metadata": {},
   "outputs": [
    {
     "name": "stdout",
     "output_type": "stream",
     "text": [
      "arr = 123654, arr2 = 123654\n"
     ]
    }
   ],
   "source": [
    "# changes will effect\n",
    "arr2 = arr[:6]\n",
    "arr2[3] = 123654\n",
    "print(f\"arr = {arr[3]}, arr2 = {arr2[3]}\")  # affect the original"
   ]
  },
  {
   "cell_type": "code",
   "execution_count": 167,
   "id": "b3199424-63f1-4cd1-961b-a81ba9841f7c",
   "metadata": {},
   "outputs": [
    {
     "name": "stdout",
     "output_type": "stream",
     "text": [
      "arr = 111111, arr2 = 3\n"
     ]
    }
   ],
   "source": [
    "# use copy\n",
    "arr3 = arr2.copy()\n",
    "arr3[2] = 111111\n",
    "print(f\"arr = {arr3[2]}, arr2 = {arr2[2]}\") # unaffected "
   ]
  },
  {
   "cell_type": "code",
   "execution_count": 170,
   "id": "274ade5c-28db-423a-bd8f-c38cebda3830",
   "metadata": {},
   "outputs": [
    {
     "name": "stdout",
     "output_type": "stream",
     "text": [
      "[2 5 8]\n",
      "[4 5 6]\n",
      "[[1 2]\n",
      " [4 5]]\n"
     ]
    }
   ],
   "source": [
    "# slicing\n",
    "arr_2d = np.array([[1,2,3],[4,5,6],[7,8,9]])\n",
    "print(arr_2d[:, 1])     # [2 5 8] → all rows, column 1\n",
    "print(arr_2d[1, :])     # [4 5 6] → row 1, all columns\n",
    "print(arr_2d[0:2, 0:2]) # [[1 2]\n",
    "                        #  [4 5]]"
   ]
  },
  {
   "cell_type": "markdown",
   "id": "7f5af87c-a64b-43a3-baa4-7800de9a6e9e",
   "metadata": {},
   "source": [
    "## What is Vectorization?"
   ]
  },
  {
   "cell_type": "markdown",
   "id": "79526897-4e1d-4eab-8c7a-536ceea7e48c",
   "metadata": {},
   "source": [
    "- **Vectorization** means performing operations on entire arrays without using Python loops.\n",
    "- NumPy uses compiled C under the hood → speed boost!"
   ]
  },
  {
   "cell_type": "code",
   "execution_count": 172,
   "id": "135d06ca-7cb9-4e28-91dc-363c304f2a47",
   "metadata": {},
   "outputs": [
    {
     "name": "stdout",
     "output_type": "stream",
     "text": [
      "time Taken: 0.9273388385772705\n"
     ]
    }
   ],
   "source": [
    "# Traditional Python way:\n",
    "import time\n",
    "size = 1_000_000_0\n",
    "a = list(range(size))\n",
    "b = list(range(size))\n",
    "start = time.time()\n",
    "c = [a[i] + b[i] for i in range(size)]  # slow\n",
    "stop = time.time()\n",
    "print(f\"time Taken: {stop - start}\")"
   ]
  },
  {
   "cell_type": "code",
   "execution_count": 173,
   "id": "9a61e5a4-21df-4073-9bad-cf2b3e145e01",
   "metadata": {},
   "outputs": [
    {
     "name": "stdout",
     "output_type": "stream",
     "text": [
      "time Taken: 0.05406999588012695\n"
     ]
    }
   ],
   "source": [
    "# using Vectorization\n",
    "d = np.array(a)\n",
    "e = np.array(b)\n",
    "start = time.time()\n",
    "f = d + e   # fast\n",
    "stop = time.time()\n",
    "print(f\"time Taken: {stop - start}\")"
   ]
  },
  {
   "cell_type": "markdown",
   "id": "c05d9e28-3616-44f1-97e5-1ba432469665",
   "metadata": {},
   "source": [
    "## What is Broadcasting?"
   ]
  },
  {
   "cell_type": "markdown",
   "id": "64168f48-4751-4958-be4f-0f4994d0d687",
   "metadata": {},
   "source": [
    "**Broadcasting** in NumPy allows us to perform arithmetic operations on arrays of different shapes without reshaping them.\n"
   ]
  },
  {
   "cell_type": "code",
   "execution_count": 176,
   "id": "a8d367cb-41cb-4eab-8272-a6bc11ca3a33",
   "metadata": {},
   "outputs": [
    {
     "name": "stdout",
     "output_type": "stream",
     "text": [
      "[11 12 13 14 15]\n"
     ]
    }
   ],
   "source": [
    "# add 10 to every element\n",
    "arr = np.array([1, 2, 3, 4, 5])\n",
    "print(arr + 10)"
   ]
  },
  {
   "cell_type": "code",
   "execution_count": 177,
   "id": "9588840b-b049-4f33-9ccf-9085e191e78c",
   "metadata": {},
   "outputs": [
    {
     "name": "stdout",
     "output_type": "stream",
     "text": [
      "[[11 22 33]\n",
      " [14 25 36]]\n"
     ]
    }
   ],
   "source": [
    "# add 1D + 2D array\n",
    "arr = np.array([[1, 2, 3],\n",
    "              [4, 5, 6]])\n",
    "brr = np.array([10, 20, 30])\n",
    "\n",
    "print(arr + brr)"
   ]
  },
  {
   "cell_type": "code",
   "execution_count": 178,
   "id": "e2ad7e36-94dd-4207-92e7-b2e6c6dbe423",
   "metadata": {},
   "outputs": [
    {
     "name": "stdout",
     "output_type": "stream",
     "text": [
      "[[11 12 13]\n",
      " [24 25 26]]\n"
     ]
    }
   ],
   "source": [
    "# Column-wise addition\n",
    "arr = np.array([[1, 2, 3],\n",
    "              [4, 5, 6]])\n",
    "brr = np.array([[10],\n",
    "              [20]])\n",
    "\n",
    "print(arr + brr)"
   ]
  },
  {
   "cell_type": "markdown",
   "id": "02051cce-cc7e-4fc3-8d21-5a4f18736252",
   "metadata": {},
   "source": [
    "## Aggregation & Reduction Operations"
   ]
  },
  {
   "cell_type": "markdown",
   "id": "ac8ea6a7-179f-4f5f-bdc8-d57b95ce1814",
   "metadata": {},
   "source": [
    "- **np.sum**\t-> Sum of elements\n",
    "- **np.mean**\t-> Mean (average)\n",
    "- **np.min**\t-> Minimum value\n",
    "- **np.max**\t-> Maximum value\n",
    "- **np.std**\t-> Standard deviation\n",
    "- **np.var**\t-> Variance\n",
    "- **np.prod**\t-> Product of all elements\n",
    "- **np.argmin**\t-> Index of minimum value\n",
    "- **np.argmax**\t-> Index of maximum value"
   ]
  },
  {
   "cell_type": "code",
   "execution_count": 188,
   "id": "178ff426-298b-4a1a-8bf7-8a04da67e2ff",
   "metadata": {},
   "outputs": [
    {
     "name": "stdout",
     "output_type": "stream",
     "text": [
      "sum : 46\n",
      "mean : 4.6\n",
      "minimum value : 1\n",
      "maximum value : 9\n",
      "standard deviation : 2.6153393661244038\n",
      "variance : 6.839999999999999\n",
      "prod : 580608\n",
      "min value index : 0\n",
      "min value index : 9\n"
     ]
    }
   ],
   "source": [
    "arr = np.array([1,2,2,3,4,4,6,7,8,9])\n",
    "\n",
    "# sum\n",
    "print(f\"sum : {np.sum(arr)}\")\n",
    "\n",
    "# mean\n",
    "print(f\"mean : {np.mean(arr)}\")\n",
    "\n",
    "# min\n",
    "print(f\"minimum value : {np.min(arr)}\")\n",
    "\n",
    "# max\n",
    "print(f\"maximum value : {np.max(arr)}\")\n",
    "\n",
    "# std\n",
    "print(f\"standard deviation : {np.std(arr)}\")\n",
    "\n",
    "# var\n",
    "print(f\"variance : {np.var(arr)}\")\n",
    "\n",
    "# prod\n",
    "print(f\"prod : {np.prod(arr)}\")\n",
    "\n",
    "# argmin\n",
    "print(f\"min value index : {np.argmin(arr)}\")\n",
    "\n",
    "# argmax\n",
    "print(f\"min value index : {np.argmax(arr)}\")\n"
   ]
  },
  {
   "cell_type": "code",
   "execution_count": null,
   "id": "b6648215-add6-4bad-a41d-a01ee1e5613d",
   "metadata": {},
   "outputs": [],
   "source": []
  }
 ],
 "metadata": {
  "kernelspec": {
   "display_name": "Python 3 (ipykernel)",
   "language": "python",
   "name": "python3"
  },
  "language_info": {
   "codemirror_mode": {
    "name": "ipython",
    "version": 3
   },
   "file_extension": ".py",
   "mimetype": "text/x-python",
   "name": "python",
   "nbconvert_exporter": "python",
   "pygments_lexer": "ipython3",
   "version": "3.13.5"
  }
 },
 "nbformat": 4,
 "nbformat_minor": 5
}
